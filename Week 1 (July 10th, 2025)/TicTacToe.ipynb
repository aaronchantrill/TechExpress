{
 "cells": [
  {
   "cell_type": "markdown",
   "id": "dd7065a9-a607-4029-945f-253b718ec322",
   "metadata": {},
   "source": [
    "## Types of programming languages:\n",
    "\n",
    "* __Procedural__: programs are a list of steps that tell a program what to do with the inputs (C, Fortran, Cobol).\n",
    "* __Declarative__: the programmer describes the problem to be solved and the language decides how to implement a solution (SQL, Prolog, Lisp).\n",
    "* __Object-Oriented__: programs are organized into objects, which maintain an internal state (C++, Java, C#).\n",
    "* __Functional__: programs are organized into functions that take an input and produce an output. The functions have no internal state (Haskell, OCaml)."
   ]
  },
  {
   "cell_type": "markdown",
   "id": "acc85899-23dc-42bf-b2f9-49f674713b95",
   "metadata": {},
   "source": [
    "## Organizing Python code\n",
    "\n",
    "* __Module__: Related code in a file with a .py extension\n",
    "* __Package__: a collection of Modules in a directory with an \\_\\_init\\_\\_.py file\n"
   ]
  },
  {
   "cell_type": "code",
   "execution_count": null,
   "id": "a96e70e9-b761-4f33-9774-0e75c8704455",
   "metadata": {},
   "outputs": [],
   "source": [
    "# https://www.idtech.com/blog/easy-games-to-make-in-python\n",
    "def print_board(board):\n",
    "    for row in board:\n",
    "        print(\" | \".join(row))\n",
    "        print(\"-\" * 9)\n",
    "\n",
    "def check_winner(board, player):\n",
    "    for row in board:\n",
    "        if all(s == player for s in row):\n",
    "            return True\n",
    "\n",
    "    for col in range(3):\n",
    "        if all(board[row][col] == player for row in range(3)):\n",
    "            return True\n",
    "\n",
    "    if all(board[i][i] == player for i in range(3)) or all(board[i][2 - i] == player for i in range(3)):\n",
    "        return True\n",
    "\n",
    "    return False\n",
    "\n",
    "board = [[\" \" for _ in range(3)] for _ in range(3)]\n",
    "player = \"X\"\n",
    "\n",
    "for _ in range(9):\n",
    "    print_board(board)\n",
    "    row, col = map(int, input(f\"Player {player}, enter row and column (0-2): \").split())\n",
    "\n",
    "    if board[row][col] == \" \":\n",
    "        board[row][col] = player\n",
    "        if check_winner(board, player):\n",
    "            print_board(board)\n",
    "            print(f\"Player {player} wins!\")\n",
    "            break\n",
    "        player = \"O\" if player == \"X\" else \"X\"\n",
    "    else:\n",
    "        print(\"Invalid move! Try again.\")\n",
    "\n",
    "else:\n",
    "    print(\"It's a tie!\")"
   ]
  },
  {
   "cell_type": "markdown",
   "id": "01d53ddf-a8fe-4944-8f8a-dfc06b99c56b",
   "metadata": {},
   "source": [
    "## Introducing objects\n",
    "Objects maintain an internal state. A class is used to instantiate an object. Python classes have some \"magic\" methods which are surrounded by double underscores. These are called \"dunder\" methods. The \"\\_\\_init\\_\\_\" dunder method is the one you are most likely to encounter. It is used to initialize a new object, and parameters passed to the class as the object is being created are passed directly to it. Notice the \"self\" parameter that is passed automatically as the first parameter to methods.\n",
    "\n",
    "## Introducing type hints\n",
    "Type hints are used to document the types of parameters a method expects to receive, and also the type of the return value. They can also be used to indicate the types of variables within methods, although there are restrictions. Python is a loosely typed language, so you can change the type of a variable at any time. This can be very confusing for someone trying to read your code later."
   ]
  },
  {
   "cell_type": "code",
   "execution_count": null,
   "id": "dc1aaf7b-e356-4eb1-a3d9-7766df4e65b6",
   "metadata": {},
   "outputs": [],
   "source": [
    "class Integer:\n",
    "    def __init__(self, value: int) -> None:\n",
    "        \"\"\"\n",
    "        This method initializes the object by setting the initial value.\n",
    "        \"\"\"\n",
    "        self.value: int = value\n",
    "\n",
    "    def __str__(self) -> str:\n",
    "        \"\"\"\n",
    "        This method defines how the object should appear when printed.\n",
    "        \"\"\"\n",
    "        return str(self.value)\n",
    "\n",
    "    def add(self, operand: int) -> None:\n",
    "        \"\"\"\n",
    "        This method extends the functionality of the object by allowing a new integer to be added to its current value.\n",
    "        \"\"\"\n",
    "        self.value += operand\n",
    "\n",
    "    def subtract(self, operand: int) -> None:\n",
    "        \"\"\"\n",
    "        This method extends the functionality of the object by allowing a new integer to be subtracted from the current value.\n",
    "        \"\"\"\n",
    "        self.value -= operand\n",
    "\n",
    "i = Integer(0)\n",
    "print(i)\n",
    "i.add(5)\n",
    "print(i)\n",
    "i.subtract(4)\n",
    "print(i)\n",
    "help(Integer)"
   ]
  },
  {
   "cell_type": "code",
   "execution_count": null,
   "id": "15b7534d-94f7-4e47-8a48-7f2cfc508886",
   "metadata": {},
   "outputs": [],
   "source": [
    "# Tic Tac Toe\n",
    "class Board:\n",
    "    def __init__(self) -> None:\n",
    "        \"\"\"\n",
    "        This initializes the board with empty cells and sets the first player to 'X'\n",
    "        \"\"\"\n",
    "        self.height: int\n",
    "        self.width: int\n",
    "        self.height = self.width = 3\n",
    "        self.status: list[list[str]] = [[\" \" for _ in range(self.width)] for _ in range(self.height)]\n",
    "        self.turn: str = 'X'\n",
    "\n",
    "    def __str__(self) -> str:\n",
    "        \"\"\"\n",
    "        This is how the board is displayed when printed\n",
    "        \"\"\"\n",
    "        response: str = \"\\n\"\n",
    "        for row_index, row in enumerate(self.status):\n",
    "            if row_index > 0:\n",
    "                response = f\"{response}\\n{'-' * (self.width * 2 - 1)}\\n\"\n",
    "            for cell_index, cell in enumerate(row):\n",
    "                if cell_index > 0:\n",
    "                    response = f\"{response}|\"\n",
    "                response = f\"{response}{cell}\"\n",
    "        return response\n",
    "\n",
    "    def check_winner(self) -> bool:\n",
    "        \"\"\"\n",
    "        Check if a player has won the game by completing a row, column, or diagonal\n",
    "        \"\"\"\n",
    "        # Check if a player has completed a whole row\n",
    "        for row in self.status:\n",
    "            if all(cell == self.turn for cell in row):\n",
    "                return True\n",
    "        # Check if a player has completed a whole column\n",
    "        for col_index in range(self.height):\n",
    "            if all(self.status[row_index][col_index] == self.turn for row_index in range(self.width)):\n",
    "                return True\n",
    "        # Check if a player has completed a whole diagonal from top left to bottom right\n",
    "        if all(self.status[i][i] == self.turn for i in range(self.height)):\n",
    "            return True\n",
    "        # Check if a player has completed a whole diagonal from bottom left to top right\n",
    "        if all(self.status[i][len(self.status)-1-i] == self.turn for i in range(self.height)):\n",
    "            return True\n",
    "        else:\n",
    "            return False\n",
    "\n",
    "    def check_full(self) -> bool:\n",
    "        \"\"\"\n",
    "        Check to see if all spaces are filled and the game is over\n",
    "        \"\"\"\n",
    "        if all(self.status[row_index][col_index] != \" \" for row_index in range(self.height) for col_index in range(self.width)):\n",
    "            return True\n",
    "        return False\n",
    "\n",
    "def play_game() -> str:\n",
    "    board: Board = Board()\n",
    "    print(\"Welcome to Tic-Tac-Toe\")\n",
    "    # Print the empty board\n",
    "    print(board)\n",
    "    while not board.check_full():\n",
    "        try:\n",
    "            row: int\n",
    "            col: int\n",
    "            row, col = map(int, input(f\"Player {board.turn}, enter row and column (0-{board.height - 1} 0-{board.width - 1}):\").split())\n",
    "            assert row < board.height\n",
    "            assert col < board.width\n",
    "            if board.status[row][col] == \" \":\n",
    "                board.status[row][col] = board.turn\n",
    "                print(board)\n",
    "                if board.check_winner():\n",
    "                    return f\"Player {board.turn} wins!\"\n",
    "                board.turn = \"O\" if board.turn == \"X\" else \"X\"\n",
    "            else:\n",
    "                print(\"Invalid move, try again\")\n",
    "        except (ValueError, IndexError, AssertionError):\n",
    "            print(\"Invalid input, try again\")\n",
    "    else:\n",
    "        return \"The game ended with a stalemate.\"\n",
    "\n",
    "print(play_game())"
   ]
  },
  {
   "cell_type": "markdown",
   "id": "7e2dcf81-0719-4952-9963-5218df143f4c",
   "metadata": {},
   "source": [
    "## Introducing some code checkers\n",
    "* mypy - a static type checker\n",
    "* flake8 - used to check for various formatting issues\n",
    "* nbqa - hides everything that isn't your code in a notebook, allowing code-checking tools to be used on it"
   ]
  },
  {
   "cell_type": "code",
   "execution_count": null,
   "id": "6fbb7951-0e14-4baa-9b67-d93b9ae248ce",
   "metadata": {},
   "outputs": [],
   "source": [
    "!pip install nbqa mypy flake8"
   ]
  },
  {
   "cell_type": "code",
   "execution_count": null,
   "id": "9e17f68b-4eff-4b6d-86c6-be7bca1155dd",
   "metadata": {},
   "outputs": [],
   "source": [
    "!nbqa mypy TicTacToe.ipynb"
   ]
  },
  {
   "cell_type": "code",
   "execution_count": null,
   "id": "243a951d-bd16-4514-868c-341d6d0bd499",
   "metadata": {},
   "outputs": [],
   "source": [
    "!nbqa flake8 TicTacToe.ipynb"
   ]
  },
  {
   "cell_type": "code",
   "execution_count": null,
   "id": "36b74c49-5fd0-442b-ba5f-6b3ee89393a2",
   "metadata": {},
   "outputs": [],
   "source": [
    "import sys\n",
    "sys.version"
   ]
  },
  {
   "cell_type": "code",
   "execution_count": null,
   "id": "f7941591-9430-41a2-96ba-4033b4b3ecfc",
   "metadata": {},
   "outputs": [],
   "source": [
    "help(Board)"
   ]
  },
  {
   "cell_type": "code",
   "execution_count": null,
   "id": "613aec70-bcbe-43b8-a336-d321857103fa",
   "metadata": {},
   "outputs": [],
   "source": []
  }
 ],
 "metadata": {
  "kernelspec": {
   "display_name": "Python 3 (ipykernel)",
   "language": "python",
   "name": "python3"
  },
  "language_info": {
   "codemirror_mode": {
    "name": "ipython",
    "version": 3
   },
   "file_extension": ".py",
   "mimetype": "text/x-python",
   "name": "python",
   "nbconvert_exporter": "python",
   "pygments_lexer": "ipython3",
   "version": "3.11.2"
  }
 },
 "nbformat": 4,
 "nbformat_minor": 5
}
